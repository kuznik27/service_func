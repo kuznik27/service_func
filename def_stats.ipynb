{
 "cells": [
  {
   "cell_type": "code",
   "execution_count": 60,
   "metadata": {},
   "outputs": [],
   "source": [
    "import psycopg2\n",
    "import pandas as pd\n",
    "from datetime import datetime"
   ]
  },
  {
   "cell_type": "code",
   "execution_count": 2,
   "metadata": {},
   "outputs": [],
   "source": [
    "defects = [\n",
    "    'pnd2_heat_deflection',\n",
    "    'pnd3_pipe_damage'\n",
    "    ]\n",
    "sensor = \"KKS_02SP_10_E901__XQ02\"\n",
    "tstart_pnd2 = 1594688912000\n",
    "tend_pnd2 = 1594689920000"
   ]
  },
  {
   "cell_type": "code",
   "execution_count": 10,
   "metadata": {},
   "outputs": [],
   "source": [
    "#Получение описания дефектов\n",
    "conn_params = \"dbname=block002catalog user=vti password=vti host=10.202.248.\"+host\n",
    "sensor_result = []\n",
    "sql = \"SELECT def_id, def_name FROM defect;\"\n",
    "def_names = {}\n",
    "with psycopg2.connect(conn_params) as conn:\n",
    "        with conn.cursor() as cur:\n",
    "            for defect in defects:\n",
    "                cur.execute(sql)\n",
    "                for i in cur.fetchall():\n",
    "                    def_names[i[0]] = i[1]"
   ]
  },
  {
   "cell_type": "code",
   "execution_count": 77,
   "metadata": {},
   "outputs": [],
   "source": [
    "#Получение статистики по продолжительности дефекта            \n",
    "thres = [0, 60000, 180000, 600000, 1800000, 3600000, \"FLOAT8 '+infinity'\"]\n",
    "levels = ['0 OR value = 1 OR value = 2 OR value = 3 OR value =4',0, 1, 2, 3, 4]\n",
    "columns_names = ['<1_мин', '1-3_мин', '3-10_мин', '10-30_мин', '30-60_мин', '>60_мин']\n",
    "\n",
    "sql =  'SELECT COUNT(difference) AS number\\\n",
    "        from\\\n",
    "        (SELECT  value, timestamp, -1*(timestamp-lead(timestamp)\\\n",
    "        OVER (ORDER BY timestamp)) AS difference\\\n",
    "        FROM def_{1}\\\n",
    "        WHERE value!= -1  AND timestamp >= {4} AND timestamp <= {5}) AS tab\\\n",
    "        WHERE difference > {2} AND difference < {0} AND (value = {3});'\n",
    "\n",
    "conn_params = \"dbname=state user=vti password=vti host=10.202.248.\"+host\n",
    "with psycopg2.connect(conn_params) as conn:\n",
    "        with conn.cursor() as cur:\n",
    "            res = pd.DataFrame(columns = columns_names)\n",
    "            df = pd.DataFrame(columns = columns_names )\n",
    "            for level in levels:\n",
    "                results = []\n",
    "                for i in range(len(thres)-1):\n",
    "#                     print(sql.format(thres[i+1],defect,thres[i]),'\\n')\n",
    "                    cur.execute(sql.format(thres[i+1],defects[0],thres[i], level, tstart_pnd2, tend_pnd2))\n",
    "                    results.append(cur.fetchone()[0])\n",
    "                df.loc[len(df)] = results\n",
    "            df.index = [defect+': '+str(level) for level in levels]\n",
    "#                 print(df)\n",
    "            res = df if len(res)==0 else res.append(df)"
   ]
  },
  {
   "cell_type": "code",
   "execution_count": 73,
   "metadata": {},
   "outputs": [],
   "source": [
    "def def_duration_analys(defect, tstart, tend, host = str(91)):\n",
    "\n",
    "    conn_params = \"dbname=asutp user=vti password=vti host=10.202.248.\"+host\n",
    "    \n",
    "    def get_date(time):\n",
    "        return datetime.fromtimestamp(time/1000).strftime('%Y-%m-%d %H:%M:%S')\n",
    "\n",
    "    sensor_result = []\n",
    "    sql = \"SELECT kks_timestamp, kks_value FROM {} WHERE kks_timestamp >= {}-5000 AND kks_timestamp <= {}+5000 ORDER BY kks_timestamp ;\"\n",
    "    \n",
    "    #Получение значений датчика мощности\n",
    "    with psycopg2.connect(conn_params) as conn:\n",
    "            with conn.cursor() as cur:\n",
    "                cur.execute(sql.format(sensor, tstart, tend))\n",
    "                sensor_result = [i for i in cur.fetchall()]\n",
    "    sensor_timestamps = [i[0] for i in sensor_result]\n",
    "    sensor_values = [i[1] for i in sensor_result]\n",
    "\n",
    "    #Получение данных о дефекте: степени развития, начале, продолжительности, скорости изменения мощности\n",
    "    sql =  'SELECT value, timestamp, difference AS Продолжительность_дефекта\\\n",
    "            from\\\n",
    "            (SELECT  value, timestamp, -1*(timestamp-lead(timestamp)\\\n",
    "            OVER (ORDER BY timestamp)) AS difference\\\n",
    "            FROM def_{0}\\\n",
    "            WHERE value!= -1  AND timestamp >= {1} AND timestamp <= {2}) AS tab;'\n",
    "\n",
    "    conn_params = \"dbname=state user=vti password=vti host=10.202.248.\"+host\n",
    "    with psycopg2.connect(conn_params) as conn:\n",
    "            with conn.cursor() as cur:\n",
    "                res = pd.DataFrame(columns = columns_names)\n",
    "                df = pd.DataFrame(columns = columns_names )\n",
    "                cur.execute(sql.format(defect, tstart, tend))\n",
    "                results =cur.fetchall()\n",
    "\n",
    "    for i in range(len(results)-1):\n",
    "        start_idx = next(j-1 for j in range(len(sensor_timestamps)) if sensor_timestamps[j]>results[i][1])\n",
    "        end_idx = next(j for j in range(len(sensor_timestamps)) if sensor_timestamps[j]>=results[i+1][1])\n",
    "        vdN = (sensor_values[end_idx] - sensor_values[start_idx])/(sensor_timestamps[end_idx] - sensor_timestamps[start_idx]) * 1000 * 60\n",
    "        vdN = round(vdN, 2)\n",
    "        print('Дефект',results[i][0],'Начало',get_date(results[i][1]),'Конец',get_date(results[i+1][1]),'Скорость изменения', vdN)"
   ]
  },
  {
   "cell_type": "code",
   "execution_count": 76,
   "metadata": {},
   "outputs": [
    {
     "name": "stdout",
     "output_type": "stream",
     "text": [
      "['pnd2_heat_deflection', 1594688912000, 1594689920000]\n",
      "Дефект 2.0 Начало 2020-07-14 04:08:32 Конец 2020-07-14 04:09:37 Скорость изменения 5.61\n",
      "Дефект 1.0 Начало 2020-07-14 04:09:37 Конец 2020-07-14 04:23:19 Скорость изменения 1.9\n",
      "Дефект 3.0 Начало 2020-07-14 04:23:19 Конец 2020-07-14 04:23:45 Скорость изменения 4.33\n",
      "Дефект 2.0 Начало 2020-07-14 04:23:45 Конец 2020-07-14 04:25:20 Скорость изменения 0.46\n",
      "['pnd3_condensate_undercooling', 1592205056000, 1592205087000]\n",
      "Дефект 3.0 Начало 2020-06-15 10:10:56 Конец 2020-06-15 10:11:22 Скорость изменения -4.72\n"
     ]
    }
   ],
   "source": [
    "def_data = [\n",
    "    ['pnd2_heat_deflection', 1594688912000, 1594689920000],\n",
    "    ['pnd3_condensate_undercooling', 1592205056000, 1592205087000]\n",
    "]\n",
    "for def_datum in def_data:\n",
    "    print(def_datum)\n",
    "    def_duration_analys(def_datum[0],def_datum[1],def_datum[2])"
   ]
  },
  {
   "cell_type": "code",
   "execution_count": 79,
   "metadata": {},
   "outputs": [
    {
     "name": "stdout",
     "output_type": "stream",
     "text": [
      "['pnd3_pipe_damage', 1591658378000, 1591658414000]\n",
      "Дефект 3.0 Начало 2020-06-09 02:19:38 Конец 2020-06-09 02:19:40 Скорость изменения 2.06\n",
      "Дефект 1.0 Начало 2020-06-09 02:19:40 Конец 2020-06-09 02:19:41 Скорость изменения -6.56\n",
      "Дефект 0.0 Начало 2020-06-09 02:19:41 Конец 2020-06-09 02:20:11 Скорость изменения -8.38\n",
      "Дефект 1.0 Начало 2020-06-09 02:20:11 Конец 2020-06-09 02:20:14 Скорость изменения -11.56\n",
      "['pnd3_pipe_damage', 1591739919000, 1591747326000]\n",
      "Дефект 2.0 Начало 2020-06-10 00:58:39 Конец 2020-06-10 00:58:42 Скорость изменения -7.19\n",
      "Дефект 0.0 Начало 2020-06-10 00:58:42 Конец 2020-06-10 00:59:10 Скорость изменения 4.19\n",
      "Дефект 1.0 Начало 2020-06-10 00:59:10 Конец 2020-06-10 00:59:12 Скорость изменения -1.41\n",
      "Дефект 3.0 Начало 2020-06-10 00:59:12 Конец 2020-06-10 00:59:14 Скорость изменения 10.31\n",
      "Дефект 4.0 Начало 2020-06-10 00:59:14 Конец 2020-06-10 01:56:17 Скорость изменения -0.17\n",
      "Дефект 3.0 Начало 2020-06-10 01:56:17 Конец 2020-06-10 01:56:27 Скорость изменения 0.56\n",
      "Дефект 1.0 Начало 2020-06-10 01:56:27 Конец 2020-06-10 01:56:50 Скорость изменения -0.98\n",
      "Дефект 0.0 Начало 2020-06-10 01:56:50 Конец 2020-06-10 01:57:33 Скорость изменения -2.11\n",
      "Дефект 4.0 Начало 2020-06-10 01:57:33 Конец 2020-06-10 02:13:54 Скорость изменения 1.81\n",
      "Дефект 3.0 Начало 2020-06-10 02:13:54 Конец 2020-06-10 02:15:15 Скорость изменения -4.5\n",
      "Дефект 4.0 Начало 2020-06-10 02:15:15 Конец 2020-06-10 02:26:27 Скорость изменения 1.6\n",
      "Дефект 3.0 Начало 2020-06-10 02:26:27 Конец 2020-06-10 02:26:40 Скорость изменения 11.97\n",
      "Дефект 1.0 Начало 2020-06-10 02:26:40 Конец 2020-06-10 02:27:27 Скорость изменения -1.74\n",
      "Дефект 3.0 Начало 2020-06-10 02:27:27 Конец 2020-06-10 02:27:34 Скорость изменения -5.62\n",
      "Дефект 4.0 Начало 2020-06-10 02:27:34 Конец 2020-06-10 02:38:44 Скорость изменения -2.05\n",
      "Дефект 3.0 Начало 2020-06-10 02:38:44 Конец 2020-06-10 02:38:53 Скорость изменения -1.56\n",
      "Дефект 1.0 Начало 2020-06-10 02:38:53 Конец 2020-06-10 02:39:00 Скорость изменения 0.27\n",
      "Дефект 0.0 Начало 2020-06-10 02:39:00 Конец 2020-06-10 02:40:19 Скорость изменения -2.88\n",
      "Дефект 2.0 Начало 2020-06-10 02:40:19 Конец 2020-06-10 02:40:22 Скорость изменения 15.0\n",
      "Дефект 3.0 Начало 2020-06-10 02:40:22 Конец 2020-06-10 02:40:23 Скорость изменения -16.88\n",
      "Дефект 4.0 Начало 2020-06-10 02:40:23 Конец 2020-06-10 03:01:51 Скорость изменения -0.23\n",
      "Дефект 3.0 Начало 2020-06-10 03:01:51 Конец 2020-06-10 03:01:57 Скорость изменения -5.47\n",
      "Дефект 4.0 Начало 2020-06-10 03:01:57 Конец 2020-06-10 03:02:03 Скорость изменения 5.62\n",
      "Дефект 3.0 Начало 2020-06-10 03:02:03 Конец 2020-06-10 03:02:06 Скорость изменения 9.06\n",
      "['pnd3_pipe_damage', 1591758133000, 1591773943000]\n",
      "Дефект 3.0 Начало 2020-06-10 06:02:13 Конец 2020-06-10 06:02:38 Скорость изменения 10.05\n",
      "Дефект 1.0 Начало 2020-06-10 06:02:38 Конец 2020-06-10 06:02:56 Скорость изменения -2.45\n",
      "Дефект 0.0 Начало 2020-06-10 06:02:56 Конец 2020-06-10 10:25:43 Скорость изменения 1.01\n",
      "['pnd3_pipe_damage', 1591934612000, 1591935083000]\n",
      "Дефект 3.0 Начало 2020-06-12 07:03:32 Конец 2020-06-12 07:07:44 Скорость изменения 3.36\n",
      "Дефект 2.0 Начало 2020-06-12 07:07:44 Конец 2020-06-12 07:08:34 Скорость изменения -10.74\n",
      "Дефект 1.0 Начало 2020-06-12 07:08:34 Конец 2020-06-12 07:08:58 Скорость изменения -16.05\n",
      "Дефект 0.0 Начало 2020-06-12 07:08:58 Конец 2020-06-12 07:11:06 Скорость изменения -1.16\n",
      "Дефект 1.0 Начало 2020-06-12 07:11:06 Конец 2020-06-12 07:11:17 Скорость изменения 9.29\n",
      "Дефект 3.0 Начало 2020-06-12 07:11:17 Конец 2020-06-12 07:11:23 Скорость изменения -8.28\n"
     ]
    }
   ],
   "source": [
    "def_data = [\n",
    "    ['pnd3_pipe_damage', 1591658378000, 1591658414000],\n",
    "    ['pnd3_pipe_damage', 1591739919000, 1591747326000],\n",
    "    ['pnd3_pipe_damage', 1591758133000, 1591773943000],\n",
    "    ['pnd3_pipe_damage', 1591934612000, 1591935083000]\n",
    "]\n",
    "for def_datum in def_data:\n",
    "    print(def_datum)\n",
    "    def_duration_analys(def_datum[0],def_datum[1],def_datum[2])"
   ]
  },
  {
   "cell_type": "code",
   "execution_count": null,
   "metadata": {},
   "outputs": [],
   "source": []
  }
 ],
 "metadata": {
  "kernelspec": {
   "display_name": "Python 3",
   "language": "python",
   "name": "python3"
  },
  "language_info": {
   "codemirror_mode": {
    "name": "ipython",
    "version": 3
   },
   "file_extension": ".py",
   "mimetype": "text/x-python",
   "name": "python",
   "nbconvert_exporter": "python",
   "pygments_lexer": "ipython3",
   "version": "3.7.6"
  }
 },
 "nbformat": 4,
 "nbformat_minor": 2
}
