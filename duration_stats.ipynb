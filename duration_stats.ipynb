{
 "cells": [
  {
   "cell_type": "code",
   "execution_count": 2,
   "metadata": {},
   "outputs": [],
   "source": [
    "import psycopg2\n",
    "from itertools import groupby"
   ]
  },
  {
   "cell_type": "code",
   "execution_count": 15,
   "metadata": {},
   "outputs": [
    {
     "name": "stdout",
     "output_type": "stream",
     "text": [
      "['acs_coolers_overheat', 'acs_pumps_leak', 'acs_pumps_malfunction', 'boiler_burners_suction', 'boiler_coll_nd_ne11_iznos', 'boiler_coll_nd_ne12_iznos', 'boiler_coll_nd_ne21_iznos', 'boiler_coll_nd_ne22_iznos', 'boiler_coll_ps_na11_iznos', 'boiler_coll_ps_na12_iznos', 'boiler_coll_ps_na21_iznos', 'boiler_coll_ps_na22_iznos', 'boiler_coll_vd_na11_iznos', 'boiler_coll_vd_na12_iznos', 'boiler_coll_vd_na21_iznos', 'boiler_coll_vd_na22_iznos', 'boiler_pp_nd_a_wall', 'boiler_pp_nd_b_wall', 'boiler_pp_vd_a_wall', 'boiler_pp_vd_b_wall', 'boiler_rvp_revs', 'boiler_tgu_co', 'circpump1_bearing_overheat', 'circpump1_flow_part_malfunction', 'circpump2_bearing_overheat', 'circpump2_flow_part_malfunction', 'condenser_corps_tightness', 'condenser_pipes_overheat', 'condenser_pipes_tightness', 'cpump1_bearing_overheat', 'cpump1_flow_part_malfunction', 'cpump2a_bearing_overheat', 'cpump2b_bearing_overheat', 'cpump2c_bearing_overheat', 'cpump2_flow_part_malfunction', 'generator_bearing11_temperature', 'generator_bearing12_temperature', 'generator_bearing13_temperature', 'generator_bearing14_temperature', 'generator_rotor_velocity', 'generator_rotor_velocity_heat', 'oilsys_cooler_overheat', 'oilsys_hydro_malfunction', 'oilsys_mnsab_malfunction', 'oilsys_mnsvg_malfunction', 'oilsys_mvn_malfunction', 'oilsys_regulator_malfucntion', 'oilsys_tank_leak', 'pnd1_heat_deflection', 'pnd2_check_valve_malfunction', 'pnd2_heat_deflection', 'pnd3_armature_malfunction', 'pnd3_condensate_subcooling', 'pnd3_condensate_undercooling', 'pnd3_pipe_damage', 'pnd3_temperature_head_increase', 'pnd4_armature_malfunction', 'pnd4_pipe_damage', 'pnd4_temperature_head_increase', 'ptn_conda_corps_tightness', 'ptn_conda_tubes_overheat', 'ptn_condb_corps_tightness', 'ptn_condb_tubes_overheat', 'ptn_oilsystem_cooler_overheat', 'ptn_oilsystem_pipes_pressure_a', 'ptn_oilsystem_pipes_pressure_b', 'ptn_turboa_bearingsa_overheat', 'ptn_turboa_bearingsb_overheat', 'ptn_turboa_bearings_sealant', 'ptn_turboa_flow_part_malfunction', 'ptn_turboa_rotor_bite', 'ptn_turboa_rotor_vibration', 'ptn_turbob_bearingsa_overheat', 'ptn_turbob_bearingsb_overheat', 'ptn_turbob_bearings_sealant', 'ptn_turbob_flow_part_malfunction', 'ptn_turbob_rotor_bite', 'ptn_turbob_rotor_vibration', 'pvd6a_condensate_subcooling', 'pvd6a_condensate_undercooling', 'pvd6a_pipe_damage', 'pvd6a_pressure_loss', 'pvd6a_residual_thickness', 'pvd6a_steam_warming', 'pvd6a_temperature_head_increase', 'pvd6a_water_warming', 'pvd6b_condensate_subcooling', 'pvd6b_condensate_undercooling', 'pvd6b_pipe_damage', 'pvd6b_pressure_loss', 'pvd6b_residual_thickness', 'pvd6b_steam_warming', 'pvd6b_temperature_head_increase', 'pvd6b_water_warming', 'pvd7a_condensate_subcooling', 'pvd7a_condensate_undercooling', 'pvd7a_pipe_damage', 'pvd7a_pressure_loss', 'pvd7a_residual_thickness', 'pvd7a_temperature_head_increase', 'pvd7b_condensate_subcooling', 'pvd7b_condensate_undercooling', 'pvd7b_pipe_damage', 'pvd7b_pressure_loss', 'pvd7b_residual_thickness', 'pvd7b_temperature_head_increase', 'pvd8a_condensate_subcooling', 'pvd8a_condensate_undercooling', 'pvd8a_pipe_damage', 'pvd8a_pressure_loss', 'pvd8a_residual_thickness', 'pvd8a_temperature_head_increase', 'pvd8b_condensate_subcooling', 'pvd8b_condensate_undercooling', 'pvd8b_pipe_damage', 'pvd8b_pressure_loss', 'pvd8b_residual_thickness', 'pvd8b_temperature_head_increase', 'pvda_armature_malfunction', 'pvda_bypass_armature', 'pvdb_armature_malfunction', 'pvdb_bypass_armature', 'tdm_drg_a_bearings_temp', 'tdm_drg_b_bearings_temp', 'tdm_ds_a_bearings_temp', 'tdm_ds_a_flow_mechanism', 'tdm_ds_a_flow_pressure', 'tdm_ds_a_flow_regulator', 'tdm_ds_b_bearings_temp', 'tdm_ds_b_flow_mechanism', 'tdm_ds_b_flow_pressure', 'tdm_ds_b_flow_regulator', 'tdm_ds_v_bearings_temp', 'tdm_ds_v_flow_mechanism', 'tdm_ds_v_flow_pressure', 'tdm_ds_v_flow_regulator', 'tdm_dv_a_bearings_temp', 'tdm_dv_a_flow_mechanism', 'tdm_dv_a_flow_pressure', 'tdm_dv_a_flow_regulator', 'tdm_dv_b_bearings_temp', 'tdm_dv_b_flow_mechanism', 'tdm_dv_b_flow_pressure', 'tdm_dv_b_flow_regulator', 'transa_input_capacity', 'transa_input_discharge', 'transa_magnet_extrusion', 'transa_metal_short', 'transa_metal_sparking', 'transa_winding_sparking', 'transb_input_capacity', 'transb_input_discharge', 'transb_magnet_extrusion', 'transb_metal_short', 'transb_metal_sparking', 'transb_winding_sparking', 'transc_input_capacity', 'transc_input_discharge', 'transc_magnet_extrusion', 'transc_metal_short', 'transc_metal_sparking', 'transc_winding_sparking', 'turbine_cnd_bearing10_malfunction', 'turbine_cnd_bearing5_malfunction', 'turbine_cnd_bearing6_malfunction', 'turbine_cnd_bearing7_malfunction', 'turbine_cnd_bearing8_malfunction', 'turbine_cnd_bearing9_malfunction', 'turbine_cnd_rotor_blade', 'turbine_cnd_rotor_crack', 'turbine_cnd_rotor_disbalance', 'turbine_cnd_rotor_vibration', 'turbine_corps_bolts', 'turbine_corps_time', 'turbine_csd_bearing3_malfunction', 'turbine_csd_bearing4_malfunction', 'turbine_csd_rotor_blade', 'turbine_csd_rotor_crack', 'turbine_csd_rotor_disbalance', 'turbine_csd_rotor_shaft', 'turbine_csd_rotor_shaft_residual', 'turbine_csd_rotor_vibration', 'turbine_cvd_bearing1_malfunction', 'turbine_cvd_bearing2_malfunction', 'turbine_cvd_rotor_blade', 'turbine_cvd_rotor_crack', 'turbine_cvd_rotor_disbalance', 'turbine_cvd_rotor_shaft', 'turbine_cvd_rotor_vibration', 'turbine_flow_part_malfunction']\n"
     ]
    }
   ],
   "source": [
    "# Получение из бд описаний дефектов по def_id\n",
    "conn_params = \"host = 10.202.248.96 dbname = block002catalog user = vti password = vti\"\n",
    "def_names = {}\n",
    "conn = psycopg2.connect(conn_params)\n",
    "cur = conn.cursor()\n",
    "\n",
    "query = \"select def_id from defect order by def_id\"\n",
    "cur.execute(query)\n",
    "resul = cur.fetchall()\n",
    "cur.close()\n",
    "conn.close()\n",
    "all_defs = [(i[0]) for i in resul]\n",
    "print(all_defs)"
   ]
  },
  {
   "cell_type": "code",
   "execution_count": 16,
   "metadata": {},
   "outputs": [],
   "source": [
    "all_defs = ['tdm_drg_a_bearings_temp', 'tdm_drg_b_bearings_temp', 'tdm_ds_a_bearings_temp', 'tdm_ds_a_flow_mechanism', 'tdm_ds_a_flow_pressure', 'tdm_ds_a_flow_regulator', 'tdm_ds_b_bearings_temp', 'tdm_ds_b_flow_mechanism', 'tdm_ds_b_flow_pressure', 'tdm_ds_b_flow_regulator', 'tdm_ds_v_bearings_temp', 'tdm_ds_v_flow_mechanism', 'tdm_ds_v_flow_pressure', 'tdm_ds_v_flow_regulator', 'tdm_dv_a_bearings_temp', 'tdm_dv_a_flow_mechanism', 'tdm_dv_a_flow_pressure', 'tdm_dv_a_flow_regulator', 'tdm_dv_b_bearings_temp', 'tdm_dv_b_flow_mechanism', 'tdm_dv_b_flow_pressure', 'tdm_dv_b_flow_regulator']"
   ]
  },
  {
   "cell_type": "code",
   "execution_count": 18,
   "metadata": {},
   "outputs": [
    {
     "name": "stdout",
     "output_type": "stream",
     "text": [
      "215\n"
     ]
    }
   ],
   "source": [
    "conn_params = \"host = 10.202.248.96 dbname = state user = vti password = vti\"\n",
    "counter_all_prod = {}\n",
    "conn = psycopg2.connect(conn_params)\n",
    "cur = conn.cursor()\n",
    "for table_name in all_defs:\n",
    "    query1 = 'select value from def_{} where value!= -1 AND timestamp > 1483056000000 and timestamp  < 1607893200000 order by timestamp desc'.format(table_name)\n",
    "    cur.execute(query1)\n",
    "    counter_all_prod[table_name] = cur.fetchall()\n",
    "cur.close()\n",
    "conn.close()\n",
    "print(len(counter_all_prod['tdm_dv_a_bearings_temp']))\n",
    "\n",
    "for table_name in all_defs:\n",
    "    counter_all_prod[table_name] = [el for el, _ in groupby(counter_all_prod[table_name])]   \n",
    "\n",
    "for key, value in counter_all_prod.items():\n",
    "    counter_all_prod[key] = [float(i[0]) for i in counter_all_prod[key]]"
   ]
  },
  {
   "cell_type": "code",
   "execution_count": 19,
   "metadata": {},
   "outputs": [
    {
     "name": "stdout",
     "output_type": "stream",
     "text": [
      "215\n"
     ]
    }
   ],
   "source": [
    "print(len(counter_all_prod['tdm_dv_a_bearings_temp']))"
   ]
  },
  {
   "cell_type": "code",
   "execution_count": 20,
   "metadata": {},
   "outputs": [],
   "source": [
    "'''\n",
    "получение названий дефектов из dev бд по def_id\n",
    "'''\n",
    "conn_params = \"host = 10.202.248.96 dbname = block002catalog user = vti password = vti\"\n",
    "all_def_names = {}\n",
    "conn = psycopg2.connect(conn_params)\n",
    "cur = conn.cursor()\n",
    "for def_name in all_defs:\n",
    "    query = \"select def_name from defect where def_id = '{}'\".format(def_name)\n",
    "    cur.execute(query)\n",
    "    all_def_names[def_name] = cur.fetchone()[0]\n",
    "cur.close()\n",
    "conn.close()"
   ]
  },
  {
   "cell_type": "code",
   "execution_count": 21,
   "metadata": {},
   "outputs": [
    {
     "data": {
      "text/plain": [
       "1338"
      ]
     },
     "execution_count": 21,
     "metadata": {},
     "output_type": "execute_result"
    }
   ],
   "source": [
    "res = {}\n",
    "for key, value in counter_all_prod.items():\n",
    "    res[key] = len(counter_all_prod[key])\n",
    "# sum(list(counter_all_prod.values()))\n",
    "sum(res.values())"
   ]
  },
  {
   "cell_type": "code",
   "execution_count": 22,
   "metadata": {},
   "outputs": [
    {
     "name": "stdout",
     "output_type": "stream",
     "text": [
      "tdm_drg_a_bearings_temp ; Рост температуры подшипников ; 80 ; 9 ; 9 ; 17 ; 21 ; 24 ;\n",
      "tdm_drg_b_bearings_temp ; Рост температуры подшипников ; 209 ; 17 ; 9 ; 54 ; 59 ; 70 ;\n",
      "tdm_ds_a_bearings_temp ; Рост температуры подшипников ; 280 ; 57 ; 26 ; 47 ; 69 ; 81 ;\n",
      "tdm_ds_a_flow_mechanism ; Дефект проточной части механизма ; 1 ; 0 ; 0 ; 0 ; 0 ; 1 ;\n",
      "tdm_ds_a_flow_pressure ; Дефект проточной части направляющего аппарата (давление) ; 1 ; 0 ; 0 ; 0 ; 0 ; 1 ;\n",
      "tdm_ds_a_flow_regulator ; Дефект проточной части направляющего аппарата (регулятор) ; 1 ; 0 ; 0 ; 0 ; 0 ; 1 ;\n",
      "tdm_ds_b_bearings_temp ; Рост температуры подшипников ; 137 ; 33 ; 14 ; 19 ; 29 ; 42 ;\n",
      "tdm_ds_b_flow_mechanism ; Дефект проточной части механизма ; 1 ; 0 ; 0 ; 0 ; 0 ; 1 ;\n",
      "tdm_ds_b_flow_pressure ; Дефект проточной части направляющего аппарата (давление) ; 1 ; 0 ; 0 ; 0 ; 0 ; 1 ;\n",
      "tdm_ds_b_flow_regulator ; Дефект проточной части направляющего аппарата (регулятор) ; 1 ; 0 ; 0 ; 0 ; 0 ; 1 ;\n",
      "tdm_ds_v_bearings_temp ; Рост температуры подшипников ; 203 ; 45 ; 22 ; 25 ; 43 ; 68 ;\n",
      "tdm_ds_v_flow_mechanism ; Дефект проточной части механизма ; 1 ; 0 ; 0 ; 0 ; 0 ; 1 ;\n",
      "tdm_ds_v_flow_pressure ; Дефект проточной части направляющего аппарата (давление) ; 1 ; 0 ; 0 ; 0 ; 0 ; 1 ;\n",
      "tdm_ds_v_flow_regulator ; Дефект проточной части направляющего аппарата (регулятор) ; 1 ; 0 ; 0 ; 0 ; 0 ; 1 ;\n",
      "tdm_dv_a_bearings_temp ; Рост температуры подшипников ; 215 ; 50 ; 29 ; 32 ; 42 ; 62 ;\n",
      "tdm_dv_a_flow_mechanism ; Дефект проточной части механизма ; 1 ; 0 ; 0 ; 0 ; 0 ; 1 ;\n",
      "tdm_dv_a_flow_pressure ; Дефект проточной части направляющего аппарата (давление) ; 1 ; 0 ; 0 ; 0 ; 0 ; 1 ;\n",
      "tdm_dv_a_flow_regulator ; Дефект проточной части направляющего аппарата (регулятор) ; 1 ; 0 ; 0 ; 0 ; 0 ; 1 ;\n",
      "tdm_dv_b_bearings_temp ; Рост температуры подшипников ; 199 ; 42 ; 25 ; 32 ; 42 ; 58 ;\n",
      "tdm_dv_b_flow_mechanism ; Дефект проточной части механизма ; 1 ; 0 ; 0 ; 0 ; 0 ; 1 ;\n",
      "tdm_dv_b_flow_pressure ; Дефект проточной части направляющего аппарата (давление) ; 1 ; 0 ; 0 ; 0 ; 0 ; 1 ;\n",
      "tdm_dv_b_flow_regulator ; Дефект проточной части направляющего аппарата (регулятор) ; 1 ; 0 ; 0 ; 0 ; 0 ; 1 ;\n"
     ]
    }
   ],
   "source": [
    "# вывод статистики по количеству дефектов\n",
    "for key, value in counter_all_prod.items():\n",
    "    print(key,';',all_def_names[key],';',len(counter_all_prod[key]),';',counter_all_prod[key].count(0),';',counter_all_prod[key].count(1),';',counter_all_prod[key].count(2),';',counter_all_prod[key].count(3),';',counter_all_prod[key].count(4),';')"
   ]
  },
  {
   "cell_type": "code",
   "execution_count": null,
   "metadata": {},
   "outputs": [],
   "source": []
  }
 ],
 "metadata": {
  "kernelspec": {
   "display_name": "Python 3",
   "language": "python",
   "name": "python3"
  },
  "language_info": {
   "codemirror_mode": {
    "name": "ipython",
    "version": 3
   },
   "file_extension": ".py",
   "mimetype": "text/x-python",
   "name": "python",
   "nbconvert_exporter": "python",
   "pygments_lexer": "ipython3",
   "version": "3.7.6"
  }
 },
 "nbformat": 4,
 "nbformat_minor": 4
}
